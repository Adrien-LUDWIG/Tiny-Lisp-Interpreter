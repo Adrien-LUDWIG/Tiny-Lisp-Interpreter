{
 "cells": [
  {
   "cell_type": "code",
   "execution_count": 2,
   "metadata": {},
   "outputs": [],
   "source": [
    "import re"
   ]
  },
  {
   "cell_type": "markdown",
   "metadata": {},
   "source": [
    "## Input examples"
   ]
  },
  {
   "cell_type": "code",
   "execution_count": 3,
   "metadata": {},
   "outputs": [],
   "source": [
    "code = \"(first (list 1 (+ 2 3) (- 5 4) (* 2 1) (/ 6 3) 9))\"\n",
    "code_bad = \"(first (list 1 (+2 3) (- 5 4) (* 2 1) (/ 6 3) 9))\""
   ]
  },
  {
   "cell_type": "markdown",
   "metadata": {},
   "source": [
    "## Lexer"
   ]
  },
  {
   "cell_type": "markdown",
   "metadata": {},
   "source": [
    "### Using regex"
   ]
  },
  {
   "cell_type": "markdown",
   "metadata": {},
   "source": [
    "Why beceause I read the note[1] at the end of the `split()` documentation too\n",
    "quick.\n",
    "\n",
    "[1]: https://koor.fr/Python/API/python/builtins/str/split.wp (that's what\n",
    "    appears when I hover over `split`)"
   ]
  },
  {
   "cell_type": "code",
   "execution_count": 4,
   "metadata": {},
   "outputs": [
    {
     "data": {
      "text/plain": [
       "['(',\n",
       " 'first',\n",
       " '(',\n",
       " 'list',\n",
       " '1',\n",
       " '(',\n",
       " '+',\n",
       " '2',\n",
       " '3',\n",
       " ')',\n",
       " '(',\n",
       " '-',\n",
       " '5',\n",
       " '4',\n",
       " ')',\n",
       " '(',\n",
       " '*',\n",
       " '2',\n",
       " '1',\n",
       " ')',\n",
       " '(',\n",
       " '/',\n",
       " '6',\n",
       " '3',\n",
       " ')',\n",
       " '9',\n",
       " ')',\n",
       " ')']"
      ]
     },
     "execution_count": 4,
     "metadata": {},
     "output_type": "execute_result"
    }
   ],
   "source": [
    "tokens = [token.strip() for token in re.split(r'(\\(|\\)|\\s)', code)]\n",
    "tokens = [token for token in tokens if token != '']\n",
    "tokens"
   ]
  },
  {
   "cell_type": "markdown",
   "metadata": {},
   "source": [
    "### Bad idea trying to create the string representation of a Python list and then using `eval()` to get the list back"
   ]
  },
  {
   "cell_type": "code",
   "execution_count": 5,
   "metadata": {},
   "outputs": [],
   "source": [
    "code_list = code.replace('(', '[').replace(')', ']').replace(' ', ', ')"
   ]
  },
  {
   "cell_type": "code",
   "execution_count": 6,
   "metadata": {},
   "outputs": [
    {
     "data": {
      "text/plain": [
       "['first',\n",
       " '[list',\n",
       " '1',\n",
       " '[+',\n",
       " '2',\n",
       " '3]',\n",
       " '[-',\n",
       " '5',\n",
       " '4]',\n",
       " '[*',\n",
       " '2',\n",
       " '1]',\n",
       " '[/',\n",
       " '6',\n",
       " '3]',\n",
       " '9']"
      ]
     },
     "execution_count": 6,
     "metadata": {},
     "output_type": "execute_result"
    }
   ],
   "source": [
    "code_list.strip('][').split(', ')"
   ]
  },
  {
   "cell_type": "code",
   "execution_count": 7,
   "metadata": {},
   "outputs": [
    {
     "ename": "SyntaxError",
     "evalue": "invalid syntax (<string>, line 1)",
     "output_type": "error",
     "traceback": [
      "Traceback \u001b[0;36m(most recent call last)\u001b[0m:\n",
      "\u001b[0m  File \u001b[1;32m/usr/lib/python3.11/site-packages/IPython/core/interactiveshell.py:3508\u001b[0m in \u001b[1;35mrun_code\u001b[0m\n    exec(code_obj, self.user_global_ns, self.user_ns)\u001b[0m\n",
      "\u001b[0;36m  Cell \u001b[0;32mIn[7], line 1\u001b[0;36m\n\u001b[0;31m    eval(code_list)\u001b[0;36m\n",
      "\u001b[0;36m  File \u001b[0;32m<string>:1\u001b[0;36m\u001b[0m\n\u001b[0;31m    [first, [list, 1, [+, 2, 3], [-, 5, 4], [*, 2, 1], [/, 6, 3], 9]]\u001b[0m\n\u001b[0m                        ^\u001b[0m\n\u001b[0;31mSyntaxError\u001b[0m\u001b[0;31m:\u001b[0m invalid syntax\n"
     ]
    }
   ],
   "source": [
    "eval(code_list)"
   ]
  },
  {
   "cell_type": "markdown",
   "metadata": {},
   "source": [
    "### A much simpler way, using `replace()` and `split()`"
   ]
  },
  {
   "cell_type": "code",
   "execution_count": 8,
   "metadata": {},
   "outputs": [
    {
     "data": {
      "text/plain": [
       "['(',\n",
       " 'first',\n",
       " '(',\n",
       " 'list',\n",
       " '1',\n",
       " '(',\n",
       " '+',\n",
       " '2',\n",
       " '3',\n",
       " ')',\n",
       " '(',\n",
       " '-',\n",
       " '5',\n",
       " '4',\n",
       " ')',\n",
       " '(',\n",
       " '*',\n",
       " '2',\n",
       " '1',\n",
       " ')',\n",
       " '(',\n",
       " '/',\n",
       " '6',\n",
       " '3',\n",
       " ')',\n",
       " '9',\n",
       " ')',\n",
       " ')']"
      ]
     },
     "execution_count": 8,
     "metadata": {},
     "output_type": "execute_result"
    }
   ],
   "source": [
    "code.replace('(', ' ( ').replace(')', ' ) ').split()"
   ]
  },
  {
   "cell_type": "code",
   "execution_count": 33,
   "metadata": {},
   "outputs": [],
   "source": [
    "def tokenize(source_code):\n",
    "  return source_code.replace('(', ' ( ').replace(')', ' ) ').split()"
   ]
  },
  {
   "cell_type": "markdown",
   "metadata": {},
   "source": [
    "## Parser"
   ]
  },
  {
   "cell_type": "markdown",
   "metadata": {},
   "source": [
    "For now, my tiny_list will only contain procedures (treated as strings) and numbers\n",
    "(positive integers only)."
   ]
  },
  {
   "cell_type": "markdown",
   "metadata": {},
   "source": [
    "EXPR = ATOM | '(' atom expression ')'"
   ]
  },
  {
   "cell_type": "markdown",
   "metadata": {},
   "source": [
    "### Recursive"
   ]
  },
  {
   "cell_type": "code",
   "execution_count": 9,
   "metadata": {},
   "outputs": [],
   "source": [
    "def parse(tokens, index=0):\n",
    "\n",
    "    expression = []\n",
    "\n",
    "    while index < len(tokens):\n",
    "        token = tokens[index]\n",
    "\n",
    "        if token == ')':\n",
    "            return expression, index\n",
    "        elif token == '(':\n",
    "            sub_expression, index = parse(tokens, index + 1)\n",
    "            expression.append(sub_expression)\n",
    "        elif token.isdigit():\n",
    "            expression.append(int(token))\n",
    "        else:\n",
    "            expression.append(token)\n",
    "        \n",
    "        index += 1\n",
    "    \n",
    "    return expression\n"
   ]
  },
  {
   "cell_type": "code",
   "execution_count": 10,
   "metadata": {},
   "outputs": [
    {
     "data": {
      "text/plain": [
       "[['first', ['list', 1, ['+', 2, 3], ['-', 5, 4], ['*', 2, 1], ['/', 6, 3], 9]]]"
      ]
     },
     "execution_count": 10,
     "metadata": {},
     "output_type": "execute_result"
    }
   ],
   "source": [
    "parse(tokens)"
   ]
  },
  {
   "cell_type": "markdown",
   "metadata": {},
   "source": [
    "While is probably missplaced."
   ]
  },
  {
   "cell_type": "code",
   "execution_count": null,
   "metadata": {},
   "outputs": [],
   "source": [
    "class ParseError(ValueError):\n",
    "    pass"
   ]
  },
  {
   "cell_type": "code",
   "execution_count": 119,
   "metadata": {},
   "outputs": [],
   "source": [
    "def _parse(tokens, index=0):\n",
    "\n",
    "    token = tokens[index]\n",
    "\n",
    "    if token == \")\":\n",
    "        raise ParseError(\"Unexpected `)`\")\n",
    "    elif token == \"(\":\n",
    "        expression = []\n",
    "\n",
    "        index += 1\n",
    "        while index < len(tokens) and tokens[index] != \")\":\n",
    "            sub_expression, index = _parse(tokens, index)\n",
    "            expression.append(sub_expression)\n",
    "\n",
    "        if index == len(tokens):\n",
    "            raise ParseError(\n",
    "                \"Unexpected EOF. A closing parentheses `)` might be missing.\"\n",
    "            )\n",
    "\n",
    "        return expression, index + 1\n",
    "    elif token.isdigit():\n",
    "        return int(token), index + 1\n",
    "    else:\n",
    "        return token, index + 1\n",
    "\n",
    "\n",
    "def parse(tokens):\n",
    "\n",
    "    # Empty input\n",
    "    if len(tokens) == 0:\n",
    "        return []\n",
    "\n",
    "    ast, index = _parse(tokens, index=0)\n",
    "\n",
    "    if index != len(tokens):\n",
    "        raise ParseError(\"You have unreachable code.\")\n",
    "\n",
    "    return ast\n"
   ]
  },
  {
   "cell_type": "markdown",
   "metadata": {},
   "source": [
    "This should be better."
   ]
  },
  {
   "cell_type": "markdown",
   "metadata": {},
   "source": [
    "### Tests"
   ]
  },
  {
   "cell_type": "code",
   "execution_count": 120,
   "metadata": {},
   "outputs": [
    {
     "name": "stdout",
     "output_type": "stream",
     "text": [
      "(first (list 1 (+ 2 3) (- 5 4) (* 2 1) (/ 6 3) 9))\n"
     ]
    },
    {
     "data": {
      "text/plain": [
       "['first', ['list', 1, ['+', 2, 3], ['-', 5, 4], ['*', 2, 1], ['/', 6, 3], 9]]"
      ]
     },
     "execution_count": 120,
     "metadata": {},
     "output_type": "execute_result"
    }
   ],
   "source": [
    "print(code)\n",
    "parse(tokenize(code))"
   ]
  },
  {
   "cell_type": "code",
   "execution_count": 121,
   "metadata": {},
   "outputs": [
    {
     "data": {
      "text/plain": [
       "[]"
      ]
     },
     "execution_count": 121,
     "metadata": {},
     "output_type": "execute_result"
    }
   ],
   "source": [
    "parse(tokenize(\"\"))"
   ]
  },
  {
   "cell_type": "code",
   "execution_count": 122,
   "metadata": {},
   "outputs": [
    {
     "ename": "NameError",
     "evalue": "name 'ParseError' is not defined",
     "output_type": "error",
     "traceback": [
      "\u001b[0;31m---------------------------------------------------------------------------\u001b[0m",
      "\u001b[0;31mNameError\u001b[0m                                 Traceback (most recent call last)",
      "Cell \u001b[0;32mIn[122], line 1\u001b[0m\n\u001b[0;32m----> 1\u001b[0m parse(tokenize(\u001b[39m\"\u001b[39;49m\u001b[39m(+ 1 2\u001b[39;49m\u001b[39m\"\u001b[39;49m))\n",
      "Cell \u001b[0;32mIn[119], line 33\u001b[0m, in \u001b[0;36mparse\u001b[0;34m(tokens)\u001b[0m\n\u001b[1;32m     30\u001b[0m \u001b[39mif\u001b[39;00m \u001b[39mlen\u001b[39m(tokens) \u001b[39m==\u001b[39m \u001b[39m0\u001b[39m:\n\u001b[1;32m     31\u001b[0m     \u001b[39mreturn\u001b[39;00m []\n\u001b[0;32m---> 33\u001b[0m ast, index \u001b[39m=\u001b[39m _parse(tokens, index\u001b[39m=\u001b[39;49m\u001b[39m0\u001b[39;49m)\n\u001b[1;32m     35\u001b[0m \u001b[39mif\u001b[39;00m index \u001b[39m!=\u001b[39m \u001b[39mlen\u001b[39m(tokens):\n\u001b[1;32m     36\u001b[0m     \u001b[39mraise\u001b[39;00m ParseError(\u001b[39m\"\u001b[39m\u001b[39mYou have unreachable code.\u001b[39m\u001b[39m\"\u001b[39m)\n",
      "Cell \u001b[0;32mIn[119], line 16\u001b[0m, in \u001b[0;36m_parse\u001b[0;34m(tokens, index)\u001b[0m\n\u001b[1;32m     13\u001b[0m         expression\u001b[39m.\u001b[39mappend(sub_expression)\n\u001b[1;32m     15\u001b[0m     \u001b[39mif\u001b[39;00m index \u001b[39m==\u001b[39m \u001b[39mlen\u001b[39m(tokens):\n\u001b[0;32m---> 16\u001b[0m         \u001b[39mraise\u001b[39;00m ParseError(\n\u001b[1;32m     17\u001b[0m             \u001b[39m\"\u001b[39m\u001b[39mUnexpected EOF. A closing parentheses `)` might be missing.\u001b[39m\u001b[39m\"\u001b[39m\n\u001b[1;32m     18\u001b[0m         )\n\u001b[1;32m     20\u001b[0m     \u001b[39mreturn\u001b[39;00m expression, index \u001b[39m+\u001b[39m \u001b[39m1\u001b[39m\n\u001b[1;32m     21\u001b[0m \u001b[39melif\u001b[39;00m token\u001b[39m.\u001b[39misdigit():\n",
      "\u001b[0;31mNameError\u001b[0m: name 'ParseError' is not defined"
     ]
    }
   ],
   "source": [
    "parse(tokenize(\"(+ 1 2\"))"
   ]
  },
  {
   "cell_type": "code",
   "execution_count": 123,
   "metadata": {},
   "outputs": [
    {
     "ename": "NameError",
     "evalue": "name 'ParseError' is not defined",
     "output_type": "error",
     "traceback": [
      "\u001b[0;31m---------------------------------------------------------------------------\u001b[0m",
      "\u001b[0;31mNameError\u001b[0m                                 Traceback (most recent call last)",
      "Cell \u001b[0;32mIn[123], line 1\u001b[0m\n\u001b[0;32m----> 1\u001b[0m parse(tokenize(\u001b[39m\"\u001b[39;49m\u001b[39m)\u001b[39;49m\u001b[39m\"\u001b[39;49m))\n",
      "Cell \u001b[0;32mIn[119], line 33\u001b[0m, in \u001b[0;36mparse\u001b[0;34m(tokens)\u001b[0m\n\u001b[1;32m     30\u001b[0m \u001b[39mif\u001b[39;00m \u001b[39mlen\u001b[39m(tokens) \u001b[39m==\u001b[39m \u001b[39m0\u001b[39m:\n\u001b[1;32m     31\u001b[0m     \u001b[39mreturn\u001b[39;00m []\n\u001b[0;32m---> 33\u001b[0m ast, index \u001b[39m=\u001b[39m _parse(tokens, index\u001b[39m=\u001b[39;49m\u001b[39m0\u001b[39;49m)\n\u001b[1;32m     35\u001b[0m \u001b[39mif\u001b[39;00m index \u001b[39m!=\u001b[39m \u001b[39mlen\u001b[39m(tokens):\n\u001b[1;32m     36\u001b[0m     \u001b[39mraise\u001b[39;00m ParseError(\u001b[39m\"\u001b[39m\u001b[39mYou have unreachable code.\u001b[39m\u001b[39m\"\u001b[39m)\n",
      "Cell \u001b[0;32mIn[119], line 6\u001b[0m, in \u001b[0;36m_parse\u001b[0;34m(tokens, index)\u001b[0m\n\u001b[1;32m      3\u001b[0m token \u001b[39m=\u001b[39m tokens[index]\n\u001b[1;32m      5\u001b[0m \u001b[39mif\u001b[39;00m token \u001b[39m==\u001b[39m \u001b[39m\"\u001b[39m\u001b[39m)\u001b[39m\u001b[39m\"\u001b[39m:\n\u001b[0;32m----> 6\u001b[0m     \u001b[39mraise\u001b[39;00m ParseError(\u001b[39m\"\u001b[39m\u001b[39mUnexpected `)`\u001b[39m\u001b[39m\"\u001b[39m)\n\u001b[1;32m      7\u001b[0m \u001b[39melif\u001b[39;00m token \u001b[39m==\u001b[39m \u001b[39m\"\u001b[39m\u001b[39m(\u001b[39m\u001b[39m\"\u001b[39m:\n\u001b[1;32m      8\u001b[0m     expression \u001b[39m=\u001b[39m []\n",
      "\u001b[0;31mNameError\u001b[0m: name 'ParseError' is not defined"
     ]
    }
   ],
   "source": [
    "parse(tokenize(\")\"))"
   ]
  },
  {
   "cell_type": "code",
   "execution_count": 124,
   "metadata": {},
   "outputs": [
    {
     "ename": "NameError",
     "evalue": "name 'ParseError' is not defined",
     "output_type": "error",
     "traceback": [
      "\u001b[0;31m---------------------------------------------------------------------------\u001b[0m",
      "\u001b[0;31mNameError\u001b[0m                                 Traceback (most recent call last)",
      "Cell \u001b[0;32mIn[124], line 1\u001b[0m\n\u001b[0;32m----> 1\u001b[0m parse(tokenize(\u001b[39m\"\u001b[39;49m\u001b[39m(+ 1 2) 3\u001b[39;49m\u001b[39m\"\u001b[39;49m))\n",
      "Cell \u001b[0;32mIn[119], line 36\u001b[0m, in \u001b[0;36mparse\u001b[0;34m(tokens)\u001b[0m\n\u001b[1;32m     33\u001b[0m ast, index \u001b[39m=\u001b[39m _parse(tokens, index\u001b[39m=\u001b[39m\u001b[39m0\u001b[39m)\n\u001b[1;32m     35\u001b[0m \u001b[39mif\u001b[39;00m index \u001b[39m!=\u001b[39m \u001b[39mlen\u001b[39m(tokens):\n\u001b[0;32m---> 36\u001b[0m     \u001b[39mraise\u001b[39;00m ParseError(\u001b[39m\"\u001b[39m\u001b[39mYou have unreachable code.\u001b[39m\u001b[39m\"\u001b[39m)\n\u001b[1;32m     38\u001b[0m \u001b[39mreturn\u001b[39;00m ast\n",
      "\u001b[0;31mNameError\u001b[0m: name 'ParseError' is not defined"
     ]
    }
   ],
   "source": [
    "parse(tokenize(\"(+ 1 2) 3\"))"
   ]
  },
  {
   "cell_type": "markdown",
   "metadata": {},
   "source": [
    "## Evaluation"
   ]
  },
  {
   "cell_type": "code",
   "execution_count": 125,
   "metadata": {},
   "outputs": [],
   "source": [
    "class EvalError(ValueError):\n",
    "    pass"
   ]
  },
  {
   "cell_type": "code",
   "execution_count": 211,
   "metadata": {},
   "outputs": [],
   "source": [
    "def add(args):\n",
    "    sum = 0\n",
    "\n",
    "    for arg in args:\n",
    "        arg = eval(arg)\n",
    "        \n",
    "        if type(arg) != int:\n",
    "            raise TypeError(\"Args of `+` should evaluate to `int`.\")\n",
    "        \n",
    "        sum += arg\n",
    "\n",
    "    return sum"
   ]
  },
  {
   "cell_type": "code",
   "execution_count": 198,
   "metadata": {},
   "outputs": [],
   "source": [
    "def substract(args):\n",
    "\n",
    "    if args == []:\n",
    "        raise ValueError(\"`-` takes one or more term.\")\n",
    "\n",
    "    first_value = args.pop(0)\n",
    "    first_value = eval(first_value)\n",
    "\n",
    "    if type(first_value) != int:\n",
    "        raise TypeError(\"Args of `-` should evaluate to `int`.\")\n",
    "\n",
    "    if args == []:\n",
    "        return - first_value\n",
    "    \n",
    "    difference = first_value\n",
    "\n",
    "\n",
    "    for arg in args:\n",
    "        arg = eval(arg)\n",
    "        \n",
    "        if type(arg) != int:\n",
    "            raise TypeError(\"Args of `-` should evaluate to `int`.\")\n",
    "        \n",
    "        difference -= arg\n",
    "\n",
    "    return difference"
   ]
  },
  {
   "cell_type": "code",
   "execution_count": 216,
   "metadata": {},
   "outputs": [],
   "source": [
    "def multiply(args):\n",
    "    product = 1\n",
    "\n",
    "    for arg in args:\n",
    "        arg = eval(arg)\n",
    "        \n",
    "        if type(arg) != int:\n",
    "            raise TypeError(\"Args of `*` should evaluate to `int`.\")\n",
    "        \n",
    "        product *= arg\n",
    "\n",
    "    return product"
   ]
  },
  {
   "cell_type": "code",
   "execution_count": 231,
   "metadata": {},
   "outputs": [],
   "source": [
    "def eval(ast):\n",
    "    # Atom: integer\n",
    "    if type(ast) is int:\n",
    "        return ast\n",
    "\n",
    "    if type(ast) is not list:\n",
    "        raise EvalError(\n",
    "            \"This interpreter only accepts integers and operations, for now.\"\n",
    "        )\n",
    "    \n",
    "    operation = ast.pop(0)\n",
    "\n",
    "    match operation:\n",
    "        case \"+\":\n",
    "            return add(ast)\n",
    "        case \"-\":\n",
    "            return substract(ast)\n",
    "        case \"*\":\n",
    "            return multiply(ast)\n",
    "\n",
    "    raise EvalError(\"Unexpected error. There are probably still bits to implement.\")\n"
   ]
  },
  {
   "cell_type": "markdown",
   "metadata": {},
   "source": [
    "### Tests\n"
   ]
  },
  {
   "cell_type": "code",
   "execution_count": 219,
   "metadata": {},
   "outputs": [
    {
     "data": {
      "text/plain": [
       "42"
      ]
     },
     "execution_count": 219,
     "metadata": {},
     "output_type": "execute_result"
    }
   ],
   "source": [
    "# Simple integer\n",
    "eval(parse(tokenize(\"42\")))"
   ]
  },
  {
   "cell_type": "code",
   "execution_count": 220,
   "metadata": {},
   "outputs": [
    {
     "ename": "EvalError",
     "evalue": "Unexpected error. There are probably still bits to implement.",
     "output_type": "error",
     "traceback": [
      "\u001b[0;31m---------------------------------------------------------------------------\u001b[0m",
      "\u001b[0;31mEvalError\u001b[0m                                 Traceback (most recent call last)",
      "Cell \u001b[0;32mIn[220], line 2\u001b[0m\n\u001b[1;32m      1\u001b[0m \u001b[39m# Integer call\u001b[39;00m\n\u001b[0;32m----> 2\u001b[0m \u001b[39meval\u001b[39;49m(parse(tokenize(\u001b[39m\"\u001b[39;49m\u001b[39m(42)\u001b[39;49m\u001b[39m\"\u001b[39;49m)))\n",
      "Cell \u001b[0;32mIn[218], line 19\u001b[0m, in \u001b[0;36meval\u001b[0;34m(ast)\u001b[0m\n\u001b[1;32m     16\u001b[0m     \u001b[39mcase\u001b[39;00m \u001b[39m\"\u001b[39m\u001b[39m-\u001b[39m\u001b[39m\"\u001b[39m:\n\u001b[1;32m     17\u001b[0m         \u001b[39mreturn\u001b[39;00m substract(ast)\n\u001b[0;32m---> 19\u001b[0m \u001b[39mraise\u001b[39;00m EvalError(\u001b[39m\"\u001b[39m\u001b[39mUnexpected error. There are probably still bits to implement.\u001b[39m\u001b[39m\"\u001b[39m)\n",
      "\u001b[0;31mEvalError\u001b[0m: Unexpected error. There are probably still bits to implement."
     ]
    }
   ],
   "source": [
    "# Integer call\n",
    "eval(parse(tokenize(\"(42)\")))"
   ]
  },
  {
   "cell_type": "code",
   "execution_count": 221,
   "metadata": {},
   "outputs": [
    {
     "ename": "EvalError",
     "evalue": "This interpreter only accepts integers and operations, for now.",
     "output_type": "error",
     "traceback": [
      "\u001b[0;31m---------------------------------------------------------------------------\u001b[0m",
      "\u001b[0;31mEvalError\u001b[0m                                 Traceback (most recent call last)",
      "Cell \u001b[0;32mIn[221], line 2\u001b[0m\n\u001b[1;32m      1\u001b[0m \u001b[39m# String (unrecognized symbol for now)\u001b[39;00m\n\u001b[0;32m----> 2\u001b[0m \u001b[39meval\u001b[39;49m(parse(tokenize(\u001b[39m\"\u001b[39;49m\u001b[39mHello\u001b[39;49m\u001b[39m\"\u001b[39;49m)))\n",
      "Cell \u001b[0;32mIn[218], line 7\u001b[0m, in \u001b[0;36meval\u001b[0;34m(ast)\u001b[0m\n\u001b[1;32m      4\u001b[0m     \u001b[39mreturn\u001b[39;00m ast\n\u001b[1;32m      6\u001b[0m \u001b[39mif\u001b[39;00m \u001b[39mtype\u001b[39m(ast) \u001b[39mis\u001b[39;00m \u001b[39mnot\u001b[39;00m \u001b[39mlist\u001b[39m:\n\u001b[0;32m----> 7\u001b[0m     \u001b[39mraise\u001b[39;00m EvalError(\n\u001b[1;32m      8\u001b[0m         \u001b[39m\"\u001b[39m\u001b[39mThis interpreter only accepts integers and operations, for now.\u001b[39m\u001b[39m\"\u001b[39m\n\u001b[1;32m      9\u001b[0m     )\n\u001b[1;32m     11\u001b[0m operation \u001b[39m=\u001b[39m ast\u001b[39m.\u001b[39mpop(\u001b[39m0\u001b[39m)\n\u001b[1;32m     13\u001b[0m \u001b[39mmatch\u001b[39;00m operation:\n",
      "\u001b[0;31mEvalError\u001b[0m: This interpreter only accepts integers and operations, for now."
     ]
    }
   ],
   "source": [
    "# String (unrecognized symbol for now)\n",
    "eval(parse(tokenize(\"Hello\")))"
   ]
  },
  {
   "cell_type": "code",
   "execution_count": 222,
   "metadata": {},
   "outputs": [
    {
     "data": {
      "text/plain": [
       "42"
      ]
     },
     "execution_count": 222,
     "metadata": {},
     "output_type": "execute_result"
    }
   ],
   "source": [
    "# Simple addition, 2 terms\n",
    "eval(parse(tokenize(\"(+ 23 19)\")))"
   ]
  },
  {
   "cell_type": "code",
   "execution_count": 223,
   "metadata": {},
   "outputs": [
    {
     "data": {
      "text/plain": [
       "42"
      ]
     },
     "execution_count": 223,
     "metadata": {},
     "output_type": "execute_result"
    }
   ],
   "source": [
    "# Scheme addition, many terms\n",
    "eval(\n",
    "    parse(\n",
    "        tokenize(\n",
    "            \"(+ 1 1 1 1 1 1 1 1 1 1 1 1 1 1 1 1 1 1 1 1 1 1 1 1 1 1 1 1 1 1 1 1 1 1 1 1 1 1 1 1 1 1)\"\n",
    "        )\n",
    "    )\n",
    ")\n"
   ]
  },
  {
   "cell_type": "code",
   "execution_count": 238,
   "metadata": {},
   "outputs": [
    {
     "data": {
      "text/plain": [
       "42"
      ]
     },
     "execution_count": 238,
     "metadata": {},
     "output_type": "execute_result"
    }
   ],
   "source": [
    "# Scheme addition, 1 term\n",
    "eval(parse(tokenize(\"(+ 42)\")))"
   ]
  },
  {
   "cell_type": "code",
   "execution_count": 237,
   "metadata": {},
   "outputs": [
    {
     "data": {
      "text/plain": [
       "0"
      ]
     },
     "execution_count": 237,
     "metadata": {},
     "output_type": "execute_result"
    }
   ],
   "source": [
    "# Scheme addition, no term.\n",
    "eval(parse(tokenize(\"(+)\")))\n",
    "# 0"
   ]
  },
  {
   "cell_type": "code",
   "execution_count": 226,
   "metadata": {},
   "outputs": [
    {
     "data": {
      "text/plain": [
       "42"
      ]
     },
     "execution_count": 226,
     "metadata": {},
     "output_type": "execute_result"
    }
   ],
   "source": [
    "# Simple substraction, 2 terms\n",
    "eval(parse(tokenize(\"(- 51 9)\")))"
   ]
  },
  {
   "cell_type": "code",
   "execution_count": 227,
   "metadata": {},
   "outputs": [
    {
     "data": {
      "text/plain": [
       "42"
      ]
     },
     "execution_count": 227,
     "metadata": {},
     "output_type": "execute_result"
    }
   ],
   "source": [
    "# Scheme substraction, many terms\n",
    "eval(parse(tokenize(\"(- 51 1 1 1 1 1 1 1 1 1)\")))"
   ]
  },
  {
   "cell_type": "code",
   "execution_count": 228,
   "metadata": {},
   "outputs": [
    {
     "data": {
      "text/plain": [
       "-42"
      ]
     },
     "execution_count": 228,
     "metadata": {},
     "output_type": "execute_result"
    }
   ],
   "source": [
    "# Scheme substraction, 1 term\n",
    "eval(parse(tokenize(\"(- 42)\")))\n",
    "# -42"
   ]
  },
  {
   "cell_type": "code",
   "execution_count": 229,
   "metadata": {},
   "outputs": [
    {
     "ename": "ValueError",
     "evalue": "`substract` takes one or more term.",
     "output_type": "error",
     "traceback": [
      "\u001b[0;31m---------------------------------------------------------------------------\u001b[0m",
      "\u001b[0;31mValueError\u001b[0m                                Traceback (most recent call last)",
      "Cell \u001b[0;32mIn[229], line 2\u001b[0m\n\u001b[1;32m      1\u001b[0m \u001b[39m# Scheme substraction, no term\u001b[39;00m\n\u001b[0;32m----> 2\u001b[0m \u001b[39meval\u001b[39;49m(parse(tokenize(\u001b[39m\"\u001b[39;49m\u001b[39m(-)\u001b[39;49m\u001b[39m\"\u001b[39;49m)))\n\u001b[1;32m      3\u001b[0m \u001b[39m# Error\u001b[39;00m\n",
      "Cell \u001b[0;32mIn[218], line 17\u001b[0m, in \u001b[0;36meval\u001b[0;34m(ast)\u001b[0m\n\u001b[1;32m     15\u001b[0m         \u001b[39mreturn\u001b[39;00m add(ast)\n\u001b[1;32m     16\u001b[0m     \u001b[39mcase\u001b[39;00m \u001b[39m\"\u001b[39m\u001b[39m-\u001b[39m\u001b[39m\"\u001b[39m:\n\u001b[0;32m---> 17\u001b[0m         \u001b[39mreturn\u001b[39;00m substract(ast)\n\u001b[1;32m     19\u001b[0m \u001b[39mraise\u001b[39;00m EvalError(\u001b[39m\"\u001b[39m\u001b[39mUnexpected error. There are probably still bits to implement.\u001b[39m\u001b[39m\"\u001b[39m)\n",
      "Cell \u001b[0;32mIn[198], line 4\u001b[0m, in \u001b[0;36msubstract\u001b[0;34m(args)\u001b[0m\n\u001b[1;32m      1\u001b[0m \u001b[39mdef\u001b[39;00m \u001b[39msubstract\u001b[39m(args):\n\u001b[1;32m      3\u001b[0m     \u001b[39mif\u001b[39;00m args \u001b[39m==\u001b[39m []:\n\u001b[0;32m----> 4\u001b[0m         \u001b[39mraise\u001b[39;00m \u001b[39mValueError\u001b[39;00m(\u001b[39m\"\u001b[39m\u001b[39m`substract` takes one or more term.\u001b[39m\u001b[39m\"\u001b[39m)\n\u001b[1;32m      6\u001b[0m     first_value \u001b[39m=\u001b[39m args\u001b[39m.\u001b[39mpop(\u001b[39m0\u001b[39m)\n\u001b[1;32m      7\u001b[0m     first_value \u001b[39m=\u001b[39m \u001b[39meval\u001b[39m(first_value)\n",
      "\u001b[0;31mValueError\u001b[0m: `substract` takes one or more term."
     ]
    }
   ],
   "source": [
    "# Scheme substraction, no term\n",
    "eval(parse(tokenize(\"(-)\")))\n",
    "# Error"
   ]
  },
  {
   "cell_type": "code",
   "execution_count": 232,
   "metadata": {},
   "outputs": [
    {
     "data": {
      "text/plain": [
       "42"
      ]
     },
     "execution_count": 232,
     "metadata": {},
     "output_type": "execute_result"
    }
   ],
   "source": [
    "# Simple multiplication, 2 terms\n",
    "eval(parse(tokenize(\"(* 21 2)\")))"
   ]
  },
  {
   "cell_type": "code",
   "execution_count": 234,
   "metadata": {},
   "outputs": [
    {
     "data": {
      "text/plain": [
       "42"
      ]
     },
     "execution_count": 234,
     "metadata": {},
     "output_type": "execute_result"
    }
   ],
   "source": [
    "# Scheme multiplication, many terms\n",
    "eval(\n",
    "    parse(\n",
    "        tokenize(\n",
    "            \"(* 3 7 2)\"\n",
    "        )\n",
    "    )\n",
    ")"
   ]
  },
  {
   "cell_type": "code",
   "execution_count": 235,
   "metadata": {},
   "outputs": [
    {
     "data": {
      "text/plain": [
       "42"
      ]
     },
     "execution_count": 235,
     "metadata": {},
     "output_type": "execute_result"
    }
   ],
   "source": [
    "# Scheme addition, 1 term\n",
    "eval(parse(tokenize(\"(* 42)\")))"
   ]
  },
  {
   "cell_type": "code",
   "execution_count": 236,
   "metadata": {},
   "outputs": [
    {
     "data": {
      "text/plain": [
       "1"
      ]
     },
     "execution_count": 236,
     "metadata": {},
     "output_type": "execute_result"
    }
   ],
   "source": [
    "# Scheme mutliplication, no term.\n",
    "eval(parse(tokenize(\"(*)\")))\n",
    "# 1"
   ]
  }
 ],
 "metadata": {
  "kernelspec": {
   "display_name": "Python 3",
   "language": "python",
   "name": "python3"
  },
  "language_info": {
   "codemirror_mode": {
    "name": "ipython",
    "version": 3
   },
   "file_extension": ".py",
   "mimetype": "text/x-python",
   "name": "python",
   "nbconvert_exporter": "python",
   "pygments_lexer": "ipython3",
   "version": "3.11.3"
  },
  "orig_nbformat": 4
 },
 "nbformat": 4,
 "nbformat_minor": 2
}
